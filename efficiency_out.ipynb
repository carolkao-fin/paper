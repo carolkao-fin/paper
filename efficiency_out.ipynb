{
 "cells": [
  {
   "cell_type": "code",
   "execution_count": 12,
   "id": "4bd71b1e-48c1-484e-8f40-206bf4c184f4",
   "metadata": {},
   "outputs": [
    {
     "name": "stdout",
     "output_type": "stream",
     "text": [
      "檔案儲存於：frontier_efficiency.xlsx\n"
     ]
    }
   ],
   "source": [
    "import pandas as pd\n",
    "\n",
    "file_path = \"eff-o6.txt\"   # 如果在Colab或其他環境，記得路徑要正確\n",
    "with open(file_path, \"r\", encoding=\"utf-8\") as f:\n",
    "    lines = f.readlines()\n",
    "\n",
    "data = []\n",
    "year_start = \"efficiency estimates for year\"\n",
    "\n",
    "i = 0\n",
    "while i < len(lines):\n",
    "    line = lines[i]\n",
    "    if year_start in line:\n",
    "        # 取得年份（倒數第二個 split 結果才是數字）\n",
    "        year = int(line.split()[-2])\n",
    "        j = i + 2  # 跳過表頭\n",
    "        while j < len(lines):\n",
    "            firm = lines[j].strip()\n",
    "            # 跳過表頭、空行或新的年度區塊\n",
    "            if firm == \"\" or firm.startswith(\"firm\") or firm.startswith(\"efficiency estimates for year\"):\n",
    "                j += 1\n",
    "                continue\n",
    "            # 如果遇到mean eff.，代表這年度的block結束\n",
    "            if firm.startswith(\"mean eff.\"):\n",
    "                break\n",
    "            parts = firm.split()\n",
    "            # 只處理有兩欄、且第一欄是數字的行\n",
    "            if len(parts) == 2 and parts[0].isdigit():\n",
    "                try:\n",
    "                    sample = int(parts[0])\n",
    "                    efficiency = float(parts[1])\n",
    "                    data.append({\"sample\": sample, \"year\": year, \"efficiency\": efficiency})\n",
    "                except Exception as e:\n",
    "                    print(f\"解析失敗：{parts}, error: {e}\")\n",
    "            j += 1\n",
    "        i = j  # 跳到下一個區塊，避免重複\n",
    "    else:\n",
    "        i += 1\n",
    "\n",
    "# 匯出結果\n",
    "df = pd.DataFrame(data)\n",
    "df[\"efficiency_real\"] = 1 / df[\"efficiency\"]\n",
    "\n",
    "output_path = \"frontier_efficiency.xlsx\"\n",
    "df.to_excel(output_path, index=False)\n",
    "print(f\"檔案儲存於：{output_path}\")\n"
   ]
  },
  {
   "cell_type": "code",
   "execution_count": null,
   "id": "9953ef13-7df0-4e9c-bc67-2321fc06e54f",
   "metadata": {},
   "outputs": [],
   "source": []
  }
 ],
 "metadata": {
  "kernelspec": {
   "display_name": "Python 3 (ipykernel)",
   "language": "python",
   "name": "python3"
  },
  "language_info": {
   "codemirror_mode": {
    "name": "ipython",
    "version": 3
   },
   "file_extension": ".py",
   "mimetype": "text/x-python",
   "name": "python",
   "nbconvert_exporter": "python",
   "pygments_lexer": "ipython3",
   "version": "3.11.7"
  }
 },
 "nbformat": 4,
 "nbformat_minor": 5
}
