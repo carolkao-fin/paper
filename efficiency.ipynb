{
 "cells": [
  {
   "cell_type": "code",
   "execution_count": 1,
   "id": "616a8d43-25c1-4fa0-bcea-754326a6f3b1",
   "metadata": {},
   "outputs": [
    {
     "name": "stdout",
     "output_type": "stream",
     "text": [
      "Requirement already satisfied: numpy in c:\\users\\user\\anaconda3\\lib\\site-packages (1.26.4)\n",
      "Requirement already satisfied: pandas in c:\\users\\user\\anaconda3\\lib\\site-packages (2.1.4)\n",
      "Requirement already satisfied: scipy in c:\\users\\user\\anaconda3\\lib\\site-packages (1.11.4)\n",
      "Requirement already satisfied: statsmodels in c:\\users\\user\\anaconda3\\lib\\site-packages (0.14.0)\n",
      "Requirement already satisfied: python-dateutil>=2.8.2 in c:\\users\\user\\anaconda3\\lib\\site-packages (from pandas) (2.8.2)\n",
      "Requirement already satisfied: pytz>=2020.1 in c:\\users\\user\\anaconda3\\lib\\site-packages (from pandas) (2023.3.post1)\n",
      "Requirement already satisfied: tzdata>=2022.1 in c:\\users\\user\\anaconda3\\lib\\site-packages (from pandas) (2023.3)\n",
      "Requirement already satisfied: patsy>=0.5.2 in c:\\users\\user\\anaconda3\\lib\\site-packages (from statsmodels) (0.5.3)\n",
      "Requirement already satisfied: packaging>=21.3 in c:\\users\\user\\anaconda3\\lib\\site-packages (from statsmodels) (23.1)\n",
      "Requirement already satisfied: six in c:\\users\\user\\anaconda3\\lib\\site-packages (from patsy>=0.5.2->statsmodels) (1.16.0)\n",
      "Note: you may need to restart the kernel to use updated packages.\n"
     ]
    }
   ],
   "source": [
    "pip install numpy pandas scipy statsmodels"
   ]
  },
  {
   "cell_type": "code",
   "execution_count": 6,
   "id": "b627c5cb-d8a6-40f6-8bb6-9d0661449742",
   "metadata": {},
   "outputs": [
    {
     "name": "stdout",
     "output_type": "stream",
     "text": [
      "0    2.772589\n",
      "1    2.564949\n",
      "2    2.639057\n",
      "3    2.772589\n",
      "4    2.302585\n",
      "Name: 0, dtype: float64\n",
      "          1         2         3         4         5         6         7\n",
      "0  2.890372 -0.839561  1.908371  5.758902  1.068840  2.040610  4.788512\n",
      "1  2.772589 -1.077928  1.867562  5.521461  0.789775  1.682168  4.627525\n",
      "2  2.772589 -0.942635  1.895849  5.549076  0.953124  1.831205  4.669791\n",
      "3  2.890372 -0.897224  1.898893  5.752573  1.001771  1.979221  4.775242\n",
      "4  2.484907 -2.268184  1.845047  5.036953 -0.423273  0.250681  4.364144\n"
     ]
    }
   ],
   "source": [
    "import pandas as pd\n",
    "import numpy as np\n",
    "\n",
    "# 讀取數據\n",
    "df = pd.read_csv(\"effi_new.txt\", delim_whitespace=True, header=None)\n",
    "\n",
    "# 定義應變數 (Y) 與自變數 (X)\n",
    "Y = np.log(df[0])  # 成本函數的應變數（對數化）\n",
    "X = np.log(df.iloc[:, 1:])  # 其他變數（對數化）\n",
    "\n",
    "# 確保數據格式正確\n",
    "print(Y.head())\n",
    "print(X.head())"
   ]
  },
  {
   "cell_type": "code",
   "execution_count": 7,
   "id": "ab3cb9d9-6f4b-4223-83ef-53e29599ec28",
   "metadata": {},
   "outputs": [],
   "source": [
    "from scipy.optimize import minimize\n",
    "\n",
    "# 定義 Translog 成本函數\n",
    "def translog_cost(params, Y, X):\n",
    "    beta0 = params[0]\n",
    "    betas = params[1:len(X.columns) + 1]\n",
    "    sigma_u = params[-2]\n",
    "    sigma_v = params[-1]\n",
    "\n",
    "    # SFA 成本函數\n",
    "    predicted_Y = beta0 + np.dot(X, betas)\n",
    "    \n",
    "    # 計算誤差項\n",
    "    epsilon = Y - predicted_Y\n",
    "\n",
    "    # 負對數概似函數（MLE 估計）\n",
    "    log_likelihood = -np.sum(\n",
    "        np.log(1 / (sigma_u + sigma_v)) - ((epsilon ** 2) / (2 * (sigma_u + sigma_v) ** 2))\n",
    "    )\n",
    "\n",
    "    return log_likelihood"
   ]
  },
  {
   "cell_type": "code",
   "execution_count": 8,
   "id": "0f3b80b1-66d1-48cd-88d9-b8c1334b1a4e",
   "metadata": {},
   "outputs": [
    {
     "name": "stdout",
     "output_type": "stream",
     "text": [
      "估計參數： [ 0.89297625  0.45086241 -1.70161581  0.79982547 -0.0886311  -1.90161767\n",
      " -2.24540595  0.25587467 -4.40926108 -4.40926108]\n"
     ]
    },
    {
     "name": "stderr",
     "output_type": "stream",
     "text": [
      "C:\\Users\\User\\AppData\\Local\\Temp\\ipykernel_11912\\1235887165.py:18: RuntimeWarning: invalid value encountered in log\n",
      "  np.log(1 / (sigma_u + sigma_v)) - ((epsilon ** 2) / (2 * (sigma_u + sigma_v) ** 2))\n"
     ]
    }
   ],
   "source": [
    "# 設定初始參數\n",
    "init_params = np.ones(len(X.columns) + 3)\n",
    "\n",
    "# 最小化負對數概似函數\n",
    "result = minimize(translog_cost, init_params, args=(Y, X), method=\"L-BFGS-B\")\n",
    "\n",
    "# 取得最佳參數\n",
    "estimated_params = result.x\n",
    "print(\"估計參數：\", estimated_params)"
   ]
  },
  {
   "cell_type": "code",
   "execution_count": 11,
   "id": "29aca1cc-1b3e-42d5-b297-1b9bc7aefc37",
   "metadata": {},
   "outputs": [
    {
     "name": "stdout",
     "output_type": "stream",
     "text": [
      "技術效率已儲存至 efficiency_results.csv\n"
     ]
    }
   ],
   "source": [
    "# 計算無效率項（技術無效率）\n",
    "sigma_u = estimated_params[-2]\n",
    "sigma_v = estimated_params[-1]\n",
    "\n",
    "# 計算殘差，這裡的 estimated_params[1:-2] 是用來取自變數的估計值\n",
    "epsilon = Y - np.dot(X, estimated_params[1:-2])  # 修正這裡\n",
    "\n",
    "u_hat = np.abs(epsilon) * (sigma_u / (sigma_u + sigma_v))  # 計算無效率\n",
    "efficiency = np.exp(-u_hat)  # 這樣每個樣本的效率不同\n",
    "\n",
    "df[\"efficiency\"] = efficiency\n",
    "df.to_csv(\"efficiency_results.csv\", index=False)\n",
    "\n",
    "print(\"技術效率已儲存至 efficiency_results.csv\")"
   ]
  },
  {
   "cell_type": "code",
   "execution_count": null,
   "id": "b010a4ea-648e-4c56-8625-3736559ed10f",
   "metadata": {},
   "outputs": [],
   "source": []
  }
 ],
 "metadata": {
  "kernelspec": {
   "display_name": "Python 3 (ipykernel)",
   "language": "python",
   "name": "python3"
  },
  "language_info": {
   "codemirror_mode": {
    "name": "ipython",
    "version": 3
   },
   "file_extension": ".py",
   "mimetype": "text/x-python",
   "name": "python",
   "nbconvert_exporter": "python",
   "pygments_lexer": "ipython3",
   "version": "3.11.7"
  }
 },
 "nbformat": 4,
 "nbformat_minor": 5
}
