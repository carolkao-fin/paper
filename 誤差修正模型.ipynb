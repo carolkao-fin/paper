{
 "cells": [
  {
   "cell_type": "code",
   "execution_count": 1,
   "id": "dd278e5c-8ad8-4ad7-a0ee-41a03fea8635",
   "metadata": {},
   "outputs": [
    {
     "name": "stdout",
     "output_type": "stream",
     "text": [
      "Requirement already satisfied: pandas in c:\\users\\user\\anaconda3\\lib\\site-packages (2.1.4)\n",
      "Requirement already satisfied: numpy in c:\\users\\user\\anaconda3\\lib\\site-packages (1.26.4)\n",
      "Requirement already satisfied: linearmodels in c:\\users\\user\\anaconda3\\lib\\site-packages (6.1)\n",
      "Requirement already satisfied: statsmodels in c:\\users\\user\\anaconda3\\lib\\site-packages (0.14.0)\n",
      "Requirement already satisfied: openpyxl in c:\\users\\user\\anaconda3\\lib\\site-packages (3.0.10)\n",
      "Requirement already satisfied: python-dateutil>=2.8.2 in c:\\users\\user\\anaconda3\\lib\\site-packages (from pandas) (2.8.2)\n",
      "Requirement already satisfied: pytz>=2020.1 in c:\\users\\user\\anaconda3\\lib\\site-packages (from pandas) (2023.3.post1)\n",
      "Requirement already satisfied: tzdata>=2022.1 in c:\\users\\user\\anaconda3\\lib\\site-packages (from pandas) (2023.3)\n",
      "Requirement already satisfied: scipy>=1.8.0 in c:\\users\\user\\anaconda3\\lib\\site-packages (from linearmodels) (1.11.4)\n",
      "Requirement already satisfied: mypy-extensions>=0.4 in c:\\users\\user\\anaconda3\\lib\\site-packages (from linearmodels) (1.0.0)\n",
      "Requirement already satisfied: Cython>=3.0.10 in c:\\users\\user\\anaconda3\\lib\\site-packages (from linearmodels) (3.1.2)\n",
      "Requirement already satisfied: pyhdfe>=0.1 in c:\\users\\user\\anaconda3\\lib\\site-packages (from linearmodels) (0.2.0)\n",
      "Requirement already satisfied: formulaic>=1.0.0 in c:\\users\\user\\anaconda3\\lib\\site-packages (from linearmodels) (1.1.1)\n",
      "Requirement already satisfied: setuptools-scm<9.0.0,>=8.0.0 in c:\\users\\user\\anaconda3\\lib\\site-packages (from setuptools-scm[toml]<9.0.0,>=8.0.0->linearmodels) (8.3.1)\n",
      "Requirement already satisfied: patsy>=0.5.2 in c:\\users\\user\\anaconda3\\lib\\site-packages (from statsmodels) (0.5.3)\n",
      "Requirement already satisfied: packaging>=21.3 in c:\\users\\user\\anaconda3\\lib\\site-packages (from statsmodels) (23.1)\n",
      "Requirement already satisfied: et_xmlfile in c:\\users\\user\\anaconda3\\lib\\site-packages (from openpyxl) (1.1.0)\n",
      "Requirement already satisfied: interface-meta>=1.2.0 in c:\\users\\user\\anaconda3\\lib\\site-packages (from formulaic>=1.0.0->linearmodels) (1.3.0)\n",
      "Requirement already satisfied: typing-extensions>=4.2.0 in c:\\users\\user\\anaconda3\\lib\\site-packages (from formulaic>=1.0.0->linearmodels) (4.9.0)\n",
      "Requirement already satisfied: wrapt>=1.0 in c:\\users\\user\\anaconda3\\lib\\site-packages (from formulaic>=1.0.0->linearmodels) (1.14.1)\n",
      "Requirement already satisfied: six in c:\\users\\user\\anaconda3\\lib\\site-packages (from patsy>=0.5.2->statsmodels) (1.16.0)\n",
      "Requirement already satisfied: setuptools in c:\\users\\user\\anaconda3\\lib\\site-packages (from setuptools-scm<9.0.0,>=8.0.0->setuptools-scm[toml]<9.0.0,>=8.0.0->linearmodels) (68.2.2)\n",
      "Note: you may need to restart the kernel to use updated packages.\n"
     ]
    }
   ],
   "source": [
    "pip install pandas numpy linearmodels statsmodels openpyxl"
   ]
  },
  {
   "cell_type": "code",
   "execution_count": 5,
   "id": "fd1db6fe-b574-4b49-8416-b35444137e44",
   "metadata": {},
   "outputs": [
    {
     "name": "stdout",
     "output_type": "stream",
     "text": [
      "                            OLS Regression Results                            \n",
      "==============================================================================\n",
      "Dep. Variable:                  dlnLI   R-squared:                       0.226\n",
      "Model:                            OLS   Adj. R-squared:                  0.213\n",
      "Method:                 Least Squares   F-statistic:                     14.95\n",
      "Date:                Thu, 03 Jul 2025   Prob (F-statistic):           0.000235\n",
      "Time:                        02:03:04   Log-Likelihood:                -111.30\n",
      "No. Observations:                 181   AIC:                             230.6\n",
      "Df Residuals:                     177   BIC:                             243.4\n",
      "Df Model:                           3                                         \n",
      "Covariance Type:              cluster                                         \n",
      "==============================================================================\n",
      "                 coef    std err          z      P>|z|      [0.025      0.975]\n",
      "------------------------------------------------------------------------------\n",
      "const         -0.2462      0.103     -2.400      0.016      -0.447      -0.045\n",
      "lnLI_L1       -0.4191      0.067     -6.257      0.000      -0.550      -0.288\n",
      "lnCE_L1       -0.3543      0.150     -2.355      0.019      -0.649      -0.059\n",
      "dlnCE        274.6483     87.872      3.126      0.002     102.422     446.875\n",
      "==============================================================================\n",
      "Omnibus:                      188.058   Durbin-Watson:                   2.378\n",
      "Prob(Omnibus):                  0.000   Jarque-Bera (JB):             4861.153\n",
      "Skew:                          -3.974   Prob(JB):                         0.00\n",
      "Kurtosis:                      27.113   Cond. No.                     4.92e+03\n",
      "==============================================================================\n",
      "\n",
      "Notes:\n",
      "[1] Standard Errors are robust to cluster correlation (cluster)\n",
      "[2] The condition number is large, 4.92e+03. This might indicate that there are\n",
      "strong multicollinearity or other numerical problems.\n",
      "\n",
      "[手動 ECM] 長期 φ = -0.8454409810937039\n"
     ]
    },
    {
     "name": "stderr",
     "output_type": "stream",
     "text": [
      "C:\\Users\\User\\anaconda3\\Lib\\site-packages\\pandas\\core\\arraylike.py:396: RuntimeWarning: invalid value encountered in log\n",
      "  result = getattr(ufunc, method)(*inputs, **kwargs)\n"
     ]
    }
   ],
   "source": [
    "#誤差修正模型(ECM)計算長短期影響\n",
    "import pandas as pd\n",
    "import numpy as np\n",
    "import statsmodels.api as sm\n",
    "\n",
    "df = pd.read_excel('final_efficiency_data_final2.xlsx')\n",
    "df['lnCE'] = np.where(df['CE'] > 0, np.log(df['CE']), np.nan)\n",
    "df['lnLI'] = np.where(df['LI'] > 0, np.log(df['LI']), np.nan)\n",
    "\n",
    "df = df.sort_values(['id', 'year']).set_index(['id', 'year'])\n",
    "panel = df[['lnCE', 'lnLI']].dropna()\n",
    "\n",
    "panel['lnLI_L1'] = panel.groupby(level=0)['lnLI'].shift(1)\n",
    "panel['lnCE_L1'] = panel.groupby(level=0)['lnCE'].shift(1)\n",
    "panel['dlnLI']   = panel.groupby(level=0)['lnLI'].diff()\n",
    "panel['dlnCE']   = panel.groupby(level=0)['lnCE'].diff()\n",
    "\n",
    "ecm = panel.dropna(subset=['lnLI_L1', 'lnCE_L1', 'dlnLI', 'dlnCE'])\n",
    "X = ecm[['lnLI_L1', 'lnCE_L1', 'dlnCE']]\n",
    "X = sm.add_constant(X)\n",
    "y = ecm['dlnLI']\n",
    "\n",
    "model = sm.OLS(y, X).fit(cov_type='cluster', cov_kwds={'groups': ecm.index.get_level_values(0)})\n",
    "print(model.summary())\n",
    "\n",
    "# 長期係數\n",
    "phi = -model.params['lnCE_L1'] / model.params['lnLI_L1']\n",
    "print('\\n[手動 ECM] 長期 φ =', phi)"
   ]
  },
  {
   "cell_type": "code",
   "execution_count": 6,
   "id": "41cc089c-1f36-4899-ac6c-5aed51ce6911",
   "metadata": {},
   "outputs": [
    {
     "name": "stdout",
     "output_type": "stream",
     "text": [
      "【lnCE】\n",
      "count    209.000000\n",
      "mean      -1.152799\n",
      "std        0.547956\n",
      "min       -1.999295\n",
      "1%        -1.993554\n",
      "5%        -1.970754\n",
      "25%       -1.527240\n",
      "50%       -1.278290\n",
      "75%       -0.840439\n",
      "95%       -0.176388\n",
      "99%       -0.174348\n",
      "max       -0.173842\n",
      "Name: lnCE, dtype: float64\n",
      "\n",
      "【dlnCE（一階差分）】\n",
      "count    194.000000\n",
      "mean      -0.001628\n",
      "std        0.000811\n",
      "min       -0.004884\n",
      "1%        -0.003540\n",
      "5%        -0.002737\n",
      "25%       -0.002114\n",
      "50%       -0.001771\n",
      "75%       -0.001184\n",
      "95%       -0.000246\n",
      "99%       -0.000244\n",
      "max       -0.000243\n",
      "Name: dlnCE, dtype: float64\n"
     ]
    }
   ],
   "source": [
    "import pandas as pd\n",
    "import numpy as np\n",
    "\n",
    "# 請將路徑改成你目前分析的資料檔\n",
    "df = pd.read_excel('final_efficiency_data_final2.xlsx')\n",
    "df['lnCE'] = np.where(df['CE'] > 0, np.log(df['CE']), np.nan)\n",
    "df = df.sort_values(['id', 'year']).set_index(['id', 'year'])\n",
    "panel = df[['lnCE']].dropna()\n",
    "\n",
    "# 一階差分\n",
    "panel['dlnCE'] = panel.groupby(level=0)['lnCE'].diff()\n",
    "\n",
    "# 波動度摘要\n",
    "print('【lnCE】')\n",
    "print(panel['lnCE'].describe(percentiles=[.01, .05, .25, .5, .75, .95, .99]))\n",
    "print('\\n【dlnCE（一階差分）】')\n",
    "print(panel['dlnCE'].describe(percentiles=[.01, .05, .25, .5, .75, .95, .99]))"
   ]
  },
  {
   "cell_type": "code",
   "execution_count": null,
   "id": "efa55cd0-1230-4802-9817-e7f83476391d",
   "metadata": {},
   "outputs": [],
   "source": []
  }
 ],
 "metadata": {
  "kernelspec": {
   "display_name": "Python 3 (ipykernel)",
   "language": "python",
   "name": "python3"
  },
  "language_info": {
   "codemirror_mode": {
    "name": "ipython",
    "version": 3
   },
   "file_extension": ".py",
   "mimetype": "text/x-python",
   "name": "python",
   "nbconvert_exporter": "python",
   "pygments_lexer": "ipython3",
   "version": "3.11.7"
  }
 },
 "nbformat": 4,
 "nbformat_minor": 5
}
